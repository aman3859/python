{
  "metadata": {
    "kernelspec": {
      "language": "python",
      "display_name": "Python 3",
      "name": "python3"
    },
    "language_info": {
      "name": "python",
      "version": "3.10.12",
      "mimetype": "text/x-python",
      "codemirror_mode": {
        "name": "ipython",
        "version": 3
      },
      "pygments_lexer": "ipython3",
      "nbconvert_exporter": "python",
      "file_extension": ".py"
    },
    "colab": {
      "name": "Fraud_Detection",
      "provenance": [],
      "include_colab_link": true
    }
  },
  "nbformat_minor": 0,
  "nbformat": 4,
  "cells": [
    {
      "cell_type": "markdown",
      "metadata": {
        "id": "view-in-github",
        "colab_type": "text"
      },
      "source": [
        "<a href=\"https://colab.research.google.com/github/aman3859/python/blob/main/Fraud_Detection.ipynb\" target=\"_parent\"><img src=\"https://colab.research.google.com/assets/colab-badge.svg\" alt=\"Open In Colab\"/></a>"
      ]
    },
    {
      "source": [
        "# IMPORTANT: RUN THIS CELL IN ORDER TO IMPORT YOUR KAGGLE DATA SOURCES,\n",
        "# THEN FEEL FREE TO DELETE THIS CELL.\n",
        "# NOTE: THIS NOTEBOOK ENVIRONMENT DIFFERS FROM KAGGLE'S PYTHON\n",
        "# ENVIRONMENT SO THERE MAY BE MISSING LIBRARIES USED BY YOUR\n",
        "# NOTEBOOK.\n",
        "import kagglehub\n",
        "goyaladi_fraud_detection_dataset_path = kagglehub.dataset_download('goyaladi/fraud-detection-dataset')\n",
        "\n",
        "print('Data source import complete.')\n"
      ],
      "metadata": {
        "id": "jqypV5_-zB0V"
      },
      "cell_type": "code",
      "outputs": [],
      "execution_count": null
    },
    {
      "cell_type": "code",
      "source": [
        "import numpy as np\n",
        "import pandas as pd\n",
        "import matplotlib.pyplot as plt\n",
        "%matplotlib inline\n",
        "import warnings as wr\n",
        "wr.filterwarnings(action=\"ignore\")\n",
        "import seaborn as sns"
      ],
      "metadata": {
        "execution": {
          "iopub.status.busy": "2023-09-05T17:48:58.966615Z",
          "iopub.execute_input": "2023-09-05T17:48:58.96705Z",
          "iopub.status.idle": "2023-09-05T17:49:00.085813Z",
          "shell.execute_reply.started": "2023-09-05T17:48:58.967014Z",
          "shell.execute_reply": "2023-09-05T17:49:00.084487Z"
        },
        "trusted": true,
        "id": "PLxYQ0IQzB0e"
      },
      "execution_count": null,
      "outputs": []
    },
    {
      "cell_type": "markdown",
      "source": [],
      "metadata": {
        "id": "e0Z9Io9HzB0g"
      }
    },
    {
      "cell_type": "markdown",
      "source": [
        "<div style=\"background-color: #3498db; border-radius: 10px; text-align: center; padding: 10px;\">\n",
        "    <h1>Data Loading</h1>\n",
        "</div>\n"
      ],
      "metadata": {
        "id": "BKYA_EXYzB0j"
      }
    },
    {
      "cell_type": "markdown",
      "source": [
        "### We are merging multiple datasets"
      ],
      "metadata": {
        "id": "CgRezI6qzB0k"
      }
    },
    {
      "cell_type": "code",
      "source": [
        "account = pd.read_csv(\"/kaggle/input/fraud-detection-dataset/Data/Customer Profiles/account_activity.csv\")\n",
        "customer = pd.read_csv(\"/kaggle/input/fraud-detection-dataset/Data/Customer Profiles/customer_data.csv\")\n",
        "fraud = pd.read_csv(\"/kaggle/input/fraud-detection-dataset/Data/Fraudulent Patterns/fraud_indicators.csv\")\n",
        "suspision = pd.read_csv(\"/kaggle/input/fraud-detection-dataset/Data/Fraudulent Patterns/suspicious_activity.csv\")\n",
        "merchant = pd.read_csv(\"/kaggle/input/fraud-detection-dataset/Data/Merchant Information/merchant_data.csv\")\n",
        "tran_cat = pd.read_csv(\"/kaggle/input/fraud-detection-dataset/Data/Merchant Information/transaction_category_labels.csv\")\n",
        "amount = pd.read_csv(\"/kaggle/input/fraud-detection-dataset/Data/Transaction Amounts/amount_data.csv\")\n",
        "anamoly = pd.read_csv(\"/kaggle/input/fraud-detection-dataset/Data/Transaction Amounts/anomaly_scores.csv\")\n",
        "tran_data = pd.read_csv(\"/kaggle/input/fraud-detection-dataset/Data/Transaction Data/transaction_metadata.csv\")\n",
        "tran_rec = pd.read_csv(\"/kaggle/input/fraud-detection-dataset/Data/Transaction Data/transaction_records.csv\")"
      ],
      "metadata": {
        "execution": {
          "iopub.status.busy": "2023-09-05T17:49:00.088277Z",
          "iopub.execute_input": "2023-09-05T17:49:00.088854Z",
          "iopub.status.idle": "2023-09-05T17:49:00.165969Z",
          "shell.execute_reply.started": "2023-09-05T17:49:00.088817Z",
          "shell.execute_reply": "2023-09-05T17:49:00.164381Z"
        },
        "trusted": true,
        "id": "d0SGjd_dzB0k"
      },
      "execution_count": null,
      "outputs": []
    },
    {
      "cell_type": "code",
      "source": [
        "data = [account,customer,fraud,suspision,merchant,tran_cat,amount,anamoly,tran_data,tran_rec]"
      ],
      "metadata": {
        "execution": {
          "iopub.status.busy": "2023-09-05T17:49:00.16848Z",
          "iopub.execute_input": "2023-09-05T17:49:00.170597Z",
          "iopub.status.idle": "2023-09-05T17:49:00.17616Z",
          "shell.execute_reply.started": "2023-09-05T17:49:00.170556Z",
          "shell.execute_reply": "2023-09-05T17:49:00.175045Z"
        },
        "trusted": true,
        "id": "-7caqGgTzB0m"
      },
      "execution_count": null,
      "outputs": []
    },
    {
      "cell_type": "code",
      "source": [
        "for df in data:\n",
        "    print(df.head())"
      ],
      "metadata": {
        "execution": {
          "iopub.status.busy": "2023-09-05T17:49:00.178639Z",
          "iopub.execute_input": "2023-09-05T17:49:00.180167Z",
          "iopub.status.idle": "2023-09-05T17:49:00.211382Z",
          "shell.execute_reply.started": "2023-09-05T17:49:00.180119Z",
          "shell.execute_reply": "2023-09-05T17:49:00.209904Z"
        },
        "trusted": true,
        "id": "me8ce7vXzB0o"
      },
      "execution_count": null,
      "outputs": []
    },
    {
      "cell_type": "code",
      "source": [
        "costumer_data = pd.merge(customer, account, on='CustomerID')\n",
        "costumer_data = pd.merge(costumer_data, suspision, on='CustomerID')\n",
        "costumer_data"
      ],
      "metadata": {
        "execution": {
          "iopub.status.busy": "2023-09-05T17:49:00.213215Z",
          "iopub.execute_input": "2023-09-05T17:49:00.214533Z",
          "iopub.status.idle": "2023-09-05T17:49:00.247117Z",
          "shell.execute_reply.started": "2023-09-05T17:49:00.214488Z",
          "shell.execute_reply": "2023-09-05T17:49:00.245762Z"
        },
        "trusted": true,
        "id": "3KkXMSxtzB0p"
      },
      "execution_count": null,
      "outputs": []
    },
    {
      "cell_type": "code",
      "source": [
        "transaction_data1 = pd.merge(fraud, tran_cat, on=\"TransactionID\")\n",
        "transaction_data2 = pd.merge(amount, anamoly, on=\"TransactionID\")\n",
        "transaction_data3 = pd.merge(tran_data, tran_rec, on=\"TransactionID\")\n",
        "transaction_data = pd.merge(transaction_data1, transaction_data2,on=\"TransactionID\")\n",
        "transaction_data = pd.merge(transaction_data, transaction_data3,on=\"TransactionID\")"
      ],
      "metadata": {
        "execution": {
          "iopub.status.busy": "2023-09-05T17:49:00.248808Z",
          "iopub.execute_input": "2023-09-05T17:49:00.249954Z",
          "iopub.status.idle": "2023-09-05T17:49:00.272876Z",
          "shell.execute_reply.started": "2023-09-05T17:49:00.249904Z",
          "shell.execute_reply": "2023-09-05T17:49:00.271223Z"
        },
        "trusted": true,
        "id": "nUBOIl_WzB0q"
      },
      "execution_count": null,
      "outputs": []
    },
    {
      "cell_type": "code",
      "source": [
        "transaction_data\n"
      ],
      "metadata": {
        "execution": {
          "iopub.status.busy": "2023-09-05T17:49:00.274394Z",
          "iopub.execute_input": "2023-09-05T17:49:00.274904Z",
          "iopub.status.idle": "2023-09-05T17:49:00.297268Z",
          "shell.execute_reply.started": "2023-09-05T17:49:00.274873Z",
          "shell.execute_reply": "2023-09-05T17:49:00.295482Z"
        },
        "trusted": true,
        "id": "y9y9vCmPzB0r"
      },
      "execution_count": null,
      "outputs": []
    },
    {
      "cell_type": "code",
      "source": [
        "data = pd.merge(transaction_data, costumer_data,on=\"CustomerID\")\n",
        "data"
      ],
      "metadata": {
        "execution": {
          "iopub.status.busy": "2023-09-05T17:49:00.298786Z",
          "iopub.execute_input": "2023-09-05T17:49:00.299132Z",
          "iopub.status.idle": "2023-09-05T17:49:00.338031Z",
          "shell.execute_reply.started": "2023-09-05T17:49:00.299103Z",
          "shell.execute_reply": "2023-09-05T17:49:00.336717Z"
        },
        "trusted": true,
        "id": "I8sVXUwEzB0s"
      },
      "execution_count": null,
      "outputs": []
    },
    {
      "cell_type": "markdown",
      "source": [
        "<div style=\"background-color: #bde0fe; border-radius: 10px; text-align: center; padding: 20px;\">\n",
        "    <h1 style=\"color: black;\">Data Exploration</h1>\n",
        "</div>\n"
      ],
      "metadata": {
        "id": "vSDJMFYYzB0t"
      }
    },
    {
      "cell_type": "code",
      "source": [
        "data.info()"
      ],
      "metadata": {
        "execution": {
          "iopub.status.busy": "2023-09-05T17:49:00.340028Z",
          "iopub.execute_input": "2023-09-05T17:49:00.340431Z",
          "iopub.status.idle": "2023-09-05T17:49:00.362202Z",
          "shell.execute_reply.started": "2023-09-05T17:49:00.34039Z",
          "shell.execute_reply": "2023-09-05T17:49:00.360417Z"
        },
        "trusted": true,
        "id": "cuzG3rOuzB0t"
      },
      "execution_count": null,
      "outputs": []
    },
    {
      "cell_type": "code",
      "source": [
        "data.shape"
      ],
      "metadata": {
        "execution": {
          "iopub.status.busy": "2023-09-05T17:49:00.36757Z",
          "iopub.execute_input": "2023-09-05T17:49:00.368044Z",
          "iopub.status.idle": "2023-09-05T17:49:00.377272Z",
          "shell.execute_reply.started": "2023-09-05T17:49:00.368006Z",
          "shell.execute_reply": "2023-09-05T17:49:00.375973Z"
        },
        "trusted": true,
        "id": "MuiqvIaJzB0u"
      },
      "execution_count": null,
      "outputs": []
    },
    {
      "cell_type": "code",
      "source": [
        "data.describe()"
      ],
      "metadata": {
        "execution": {
          "iopub.status.busy": "2023-09-05T17:49:00.379432Z",
          "iopub.execute_input": "2023-09-05T17:49:00.379886Z",
          "iopub.status.idle": "2023-09-05T17:49:00.538703Z",
          "shell.execute_reply.started": "2023-09-05T17:49:00.379849Z",
          "shell.execute_reply": "2023-09-05T17:49:00.537438Z"
        },
        "trusted": true,
        "id": "vCRYz5bozB0u"
      },
      "execution_count": null,
      "outputs": []
    },
    {
      "cell_type": "code",
      "source": [],
      "metadata": {
        "id": "zZYPYZkqzB0v"
      },
      "execution_count": null,
      "outputs": []
    },
    {
      "cell_type": "code",
      "source": [
        "\n",
        "data.columns"
      ],
      "metadata": {
        "execution": {
          "iopub.status.busy": "2023-09-05T17:49:00.54038Z",
          "iopub.execute_input": "2023-09-05T17:49:00.541396Z",
          "iopub.status.idle": "2023-09-05T17:49:00.551037Z",
          "shell.execute_reply.started": "2023-09-05T17:49:00.541331Z",
          "shell.execute_reply": "2023-09-05T17:49:00.549626Z"
        },
        "trusted": true,
        "id": "aINofF7izB0v"
      },
      "execution_count": null,
      "outputs": []
    },
    {
      "cell_type": "code",
      "source": [
        "numerical_features = data.select_dtypes(include=['number']).columns.tolist()\n",
        "categorical_features = data.select_dtypes(include=['object']).columns.tolist()\n",
        "print(numerical_features)\n",
        "print(categorical_features)"
      ],
      "metadata": {
        "execution": {
          "iopub.status.busy": "2023-09-05T17:49:00.552764Z",
          "iopub.execute_input": "2023-09-05T17:49:00.55394Z",
          "iopub.status.idle": "2023-09-05T17:49:00.568427Z",
          "shell.execute_reply.started": "2023-09-05T17:49:00.55387Z",
          "shell.execute_reply": "2023-09-05T17:49:00.566693Z"
        },
        "trusted": true,
        "id": "hlwpkL7TzB0v"
      },
      "execution_count": null,
      "outputs": []
    },
    {
      "cell_type": "markdown",
      "source": [
        "<div style=\"background-color: #cdb4db; border-radius: 10px; text-align: center; padding: 20px;\">\n",
        "    <h1 style=\"color: black;\">Data Visualization</h1>\n",
        "</div>\n"
      ],
      "metadata": {
        "id": "Lbotdow4zB0v"
      }
    },
    {
      "cell_type": "code",
      "source": [
        "for column in data.columns:\n",
        "    if data[column].dtype == 'object':  # Check if the column has a categorical data type\n",
        "        top_10_values = data[column].value_counts().head(10)  # Get the first 10 unique values and their counts\n",
        "        plt.figure(figsize=(10, 5))  # Adjust the figure size if needed\n",
        "        sns.countplot(x=column, data=data, order=top_10_values.index)\n",
        "        plt.title(f'Count Plot for {column}')\n",
        "        plt.xticks(rotation=90)  # Rotate x-axis labels if they are long\n",
        "        plt.show()\n"
      ],
      "metadata": {
        "execution": {
          "iopub.status.busy": "2023-09-05T17:49:00.570432Z",
          "iopub.execute_input": "2023-09-05T17:49:00.571214Z",
          "iopub.status.idle": "2023-09-05T17:49:02.438014Z",
          "shell.execute_reply.started": "2023-09-05T17:49:00.571178Z",
          "shell.execute_reply": "2023-09-05T17:49:02.436742Z"
        },
        "trusted": true,
        "id": "bXQKXyL8zB0w"
      },
      "execution_count": null,
      "outputs": []
    },
    {
      "cell_type": "code",
      "source": [
        "import pandas as pd\n",
        "import seaborn as sns\n",
        "import matplotlib.pyplot as plt\n",
        "\n",
        "# Assuming 'data' is your DataFrame containing numerical columns\n",
        "\n",
        "# Get the number of numerical columns\n",
        "num_cols = len(data.select_dtypes(include=['number']).columns)\n",
        "\n",
        "# Calculate the number of rows and columns for subplots\n",
        "num_rows = (num_cols // 2) + (num_cols % 2)\n",
        "\n",
        "# Create subplots\n",
        "fig, axes = plt.subplots(num_rows, 2, figsize=(12, 6*num_rows))\n",
        "fig.suptitle(\"Box Plots for Numerical Columns\")\n",
        "\n",
        "# Loop through the numerical columns and create box plots\n",
        "for i, column in enumerate(data.select_dtypes(include=['number']).columns):\n",
        "    row = i // 2\n",
        "    col = i % 2\n",
        "    sns.boxplot(x=data[column], ax=axes[row, col])\n",
        "    axes[row, col].set_title(column)\n",
        "\n",
        "# Remove any empty subplots\n",
        "if num_cols % 2 != 0:\n",
        "    fig.delaxes(axes[num_rows-1, 1])\n",
        "\n",
        "plt.tight_layout()\n",
        "plt.subplots_adjust(top=0.95)  # Adjust the position of the overall title\n",
        "plt.show()\n"
      ],
      "metadata": {
        "execution": {
          "iopub.status.busy": "2023-09-05T17:49:02.439511Z",
          "iopub.execute_input": "2023-09-05T17:49:02.439895Z",
          "iopub.status.idle": "2023-09-05T17:49:04.256623Z",
          "shell.execute_reply.started": "2023-09-05T17:49:02.439862Z",
          "shell.execute_reply": "2023-09-05T17:49:04.255627Z"
        },
        "trusted": true,
        "id": "H20ODjY2zB0w"
      },
      "execution_count": null,
      "outputs": []
    },
    {
      "cell_type": "code",
      "source": [
        "# We should use countplot for SuspiciousFlag feature\n",
        "\n",
        "plt.figure(figsize=(8, 6))  # Adjust the figure size if needed\n",
        "sns.countplot(x='SuspiciousFlag', data=data, palette='Set2')  # You can change the palette as desired\n",
        "plt.title('Count Plot for Suspicious Flag')\n",
        "plt.xlabel('Suspicious Flag')\n",
        "plt.ylabel('Count')\n",
        "plt.xticks(rotation=45)  # Rotate x-axis labels if they are long\n",
        "\n",
        "plt.show()"
      ],
      "metadata": {
        "execution": {
          "iopub.status.busy": "2023-09-05T17:49:04.257953Z",
          "iopub.execute_input": "2023-09-05T17:49:04.259195Z",
          "iopub.status.idle": "2023-09-05T17:49:04.522529Z",
          "shell.execute_reply.started": "2023-09-05T17:49:04.259153Z",
          "shell.execute_reply": "2023-09-05T17:49:04.521438Z"
        },
        "trusted": true,
        "id": "fcVzYsXRzB0w"
      },
      "execution_count": null,
      "outputs": []
    },
    {
      "cell_type": "markdown",
      "source": [
        "### Okay we can see the dataset's target feature is heavily imbalanced sowe can use further techiniqes to equalize the feature's values"
      ],
      "metadata": {
        "id": "NzkSoGpozB0x"
      }
    },
    {
      "cell_type": "code",
      "source": [
        "\n",
        "# Select only the numeric columns\n",
        "numeric_data = data.select_dtypes(include=['number'])\n",
        "\n",
        "# Calculate the correlation matrix for numeric columns\n",
        "correlation_matrix = numeric_data.corr()\n",
        "\n",
        "# Create a heatmap\n",
        "plt.figure(figsize=(12, 8))\n",
        "sns.heatmap(correlation_matrix, annot=True, cmap='coolwarm', fmt=\".2f\")\n",
        "plt.title('Correlation Heatmap for Numeric Columns')\n",
        "\n",
        "plt.show()\n"
      ],
      "metadata": {
        "execution": {
          "iopub.status.busy": "2023-09-05T17:49:04.523956Z",
          "iopub.execute_input": "2023-09-05T17:49:04.52456Z",
          "iopub.status.idle": "2023-09-05T17:49:05.23049Z",
          "shell.execute_reply.started": "2023-09-05T17:49:04.524524Z",
          "shell.execute_reply": "2023-09-05T17:49:05.229585Z"
        },
        "trusted": true,
        "id": "1DdxXfRMzB0x"
      },
      "execution_count": null,
      "outputs": []
    },
    {
      "cell_type": "code",
      "source": [
        "# Dropping the columns as of now they are not mush corelated & also wouldn't damper the performance of model\n",
        "\n",
        "columns_to_be_dropped = ['TransactionID','MerchantID','CustomerID','Name', 'Age', 'Address']"
      ],
      "metadata": {
        "execution": {
          "iopub.status.busy": "2023-09-05T17:49:05.231988Z",
          "iopub.execute_input": "2023-09-05T17:49:05.232357Z",
          "iopub.status.idle": "2023-09-05T17:49:05.237858Z",
          "shell.execute_reply.started": "2023-09-05T17:49:05.232325Z",
          "shell.execute_reply": "2023-09-05T17:49:05.236665Z"
        },
        "trusted": true,
        "id": "D2hwUcsKzB0x"
      },
      "execution_count": null,
      "outputs": []
    },
    {
      "cell_type": "code",
      "source": [
        "data1 = data.drop(columns_to_be_dropped, axis=1)\n",
        "data1.head()"
      ],
      "metadata": {
        "execution": {
          "iopub.status.busy": "2023-09-05T17:49:05.239462Z",
          "iopub.execute_input": "2023-09-05T17:49:05.239808Z",
          "iopub.status.idle": "2023-09-05T17:49:05.265567Z",
          "shell.execute_reply.started": "2023-09-05T17:49:05.239779Z",
          "shell.execute_reply": "2023-09-05T17:49:05.264341Z"
        },
        "trusted": true,
        "id": "8aZ565pFzB0x"
      },
      "execution_count": null,
      "outputs": []
    },
    {
      "cell_type": "code",
      "source": [
        "data1['FraudIndicator'].value_counts(), data1['SuspiciousFlag'].value_counts(), data1['Category'].value_counts()"
      ],
      "metadata": {
        "execution": {
          "iopub.status.busy": "2023-09-05T17:49:05.267125Z",
          "iopub.execute_input": "2023-09-05T17:49:05.267453Z",
          "iopub.status.idle": "2023-09-05T17:49:05.279046Z",
          "shell.execute_reply.started": "2023-09-05T17:49:05.267424Z",
          "shell.execute_reply": "2023-09-05T17:49:05.277752Z"
        },
        "trusted": true,
        "id": "X3s-vhPvzB0x"
      },
      "execution_count": null,
      "outputs": []
    },
    {
      "cell_type": "markdown",
      "source": [
        "<div style=\"background-color: #ffc8dd; border-radius: 10px; text-align: center; padding: 20px;\">\n",
        "    <h1 style=\"color: black;\">Feature Engineering</h1>\n",
        "</div>\n"
      ],
      "metadata": {
        "id": "Jzf5KRuhzB0y"
      }
    },
    {
      "cell_type": "code",
      "source": [
        "# Using Feature Engineering Creating two Columns\n",
        "# Hour of Transaction = hour\n",
        "# Gap between the day of transaction and last login in days = gap\n",
        "if pd.api.types.is_datetime64_any_dtype(data['Timestamp']):\n",
        "    print(\"The 'Timestamp' column is already in datetime format.\")\n",
        "else:\n",
        "    print(\"The 'Timestamp' column is not in datetime format.\")"
      ],
      "metadata": {
        "execution": {
          "iopub.status.busy": "2023-09-05T17:49:05.28063Z",
          "iopub.execute_input": "2023-09-05T17:49:05.281103Z",
          "iopub.status.idle": "2023-09-05T17:49:05.289896Z",
          "shell.execute_reply.started": "2023-09-05T17:49:05.28106Z",
          "shell.execute_reply": "2023-09-05T17:49:05.288357Z"
        },
        "trusted": true,
        "id": "heZJCPp-zB0y"
      },
      "execution_count": null,
      "outputs": []
    },
    {
      "cell_type": "markdown",
      "source": [
        "Converting TimeStamp to datetime format"
      ],
      "metadata": {
        "id": "lfAXP64NzB0y"
      }
    },
    {
      "cell_type": "code",
      "source": [
        "data1['Timestamp1'] = pd.to_datetime(data1['Timestamp'])\n",
        "\n",
        "print(data1.dtypes)"
      ],
      "metadata": {
        "execution": {
          "iopub.status.busy": "2023-09-05T17:49:05.291608Z",
          "iopub.execute_input": "2023-09-05T17:49:05.29207Z",
          "iopub.status.idle": "2023-09-05T17:49:05.309233Z",
          "shell.execute_reply.started": "2023-09-05T17:49:05.292027Z",
          "shell.execute_reply": "2023-09-05T17:49:05.30798Z"
        },
        "trusted": true,
        "id": "dGF1TD4nzB0z"
      },
      "execution_count": null,
      "outputs": []
    },
    {
      "cell_type": "code",
      "source": [
        "data1['Hour'] = data1['Timestamp1'].dt.hour"
      ],
      "metadata": {
        "execution": {
          "iopub.status.busy": "2023-09-05T17:49:05.310973Z",
          "iopub.execute_input": "2023-09-05T17:49:05.31151Z",
          "iopub.status.idle": "2023-09-05T17:49:05.322454Z",
          "shell.execute_reply.started": "2023-09-05T17:49:05.311468Z",
          "shell.execute_reply": "2023-09-05T17:49:05.321535Z"
        },
        "trusted": true,
        "id": "4etNZ8a2zB00"
      },
      "execution_count": null,
      "outputs": []
    },
    {
      "cell_type": "code",
      "source": [
        "data1['LastLogin'] = pd.to_datetime(data1['LastLogin'])"
      ],
      "metadata": {
        "execution": {
          "iopub.status.busy": "2023-09-05T17:49:05.323898Z",
          "iopub.execute_input": "2023-09-05T17:49:05.32479Z",
          "iopub.status.idle": "2023-09-05T17:49:05.339494Z",
          "shell.execute_reply.started": "2023-09-05T17:49:05.324756Z",
          "shell.execute_reply": "2023-09-05T17:49:05.338243Z"
        },
        "trusted": true,
        "id": "l1tW9tQPzB00"
      },
      "execution_count": null,
      "outputs": []
    },
    {
      "cell_type": "code",
      "source": [
        "data1['gap'] = (data1['Timestamp1'] - data1['LastLogin']).dt.days.abs()"
      ],
      "metadata": {
        "execution": {
          "iopub.status.busy": "2023-09-05T17:49:05.340795Z",
          "iopub.execute_input": "2023-09-05T17:49:05.341118Z",
          "iopub.status.idle": "2023-09-05T17:49:05.356096Z",
          "shell.execute_reply.started": "2023-09-05T17:49:05.34109Z",
          "shell.execute_reply": "2023-09-05T17:49:05.354857Z"
        },
        "trusted": true,
        "id": "D-sQQlqVzB00"
      },
      "execution_count": null,
      "outputs": []
    },
    {
      "cell_type": "code",
      "source": [
        "data1.head()"
      ],
      "metadata": {
        "execution": {
          "iopub.status.busy": "2023-09-05T17:49:05.357352Z",
          "iopub.execute_input": "2023-09-05T17:49:05.358039Z",
          "iopub.status.idle": "2023-09-05T17:49:05.379939Z",
          "shell.execute_reply.started": "2023-09-05T17:49:05.357996Z",
          "shell.execute_reply": "2023-09-05T17:49:05.378746Z"
        },
        "trusted": true,
        "id": "2EChIMcszB01"
      },
      "execution_count": null,
      "outputs": []
    },
    {
      "cell_type": "markdown",
      "source": [
        "<div style=\"background-color: #ccd5ae; border-radius: 10px; text-align: center; padding: 20px;\">\n",
        "    <h1 style=\"color: black;\">Data Modelling</h1>\n",
        "</div>\n"
      ],
      "metadata": {
        "id": "FzJaIgrdzB01"
      }
    },
    {
      "cell_type": "code",
      "source": [
        "X = data1.drop(['FraudIndicator','Timestamp','Timestamp1','LastLogin'],axis=1)\n",
        "Y = data1['FraudIndicator']"
      ],
      "metadata": {
        "execution": {
          "iopub.status.busy": "2023-09-05T17:49:05.381476Z",
          "iopub.execute_input": "2023-09-05T17:49:05.381997Z",
          "iopub.status.idle": "2023-09-05T17:49:05.389736Z",
          "shell.execute_reply.started": "2023-09-05T17:49:05.381955Z",
          "shell.execute_reply": "2023-09-05T17:49:05.388363Z"
        },
        "trusted": true,
        "id": "xJEKG8GFzB01"
      },
      "execution_count": null,
      "outputs": []
    },
    {
      "cell_type": "code",
      "source": [
        "from sklearn.preprocessing import LabelEncoder\n",
        "# Create an instance of LabelEncoder\n",
        "label_encoder = LabelEncoder()\n",
        "\n",
        "# Fit and transform the 'Category' column\n",
        "X['Category'] = label_encoder.fit_transform(X['Category'])\n",
        "X"
      ],
      "metadata": {
        "execution": {
          "iopub.status.busy": "2023-09-05T17:49:05.397011Z",
          "iopub.execute_input": "2023-09-05T17:49:05.397392Z",
          "iopub.status.idle": "2023-09-05T17:49:05.605415Z",
          "shell.execute_reply.started": "2023-09-05T17:49:05.397362Z",
          "shell.execute_reply": "2023-09-05T17:49:05.604414Z"
        },
        "trusted": true,
        "id": "2GjiFbe8zB01"
      },
      "execution_count": null,
      "outputs": []
    },
    {
      "cell_type": "markdown",
      "source": [
        "train,test,splitting the data"
      ],
      "metadata": {
        "id": "tKZ6MVXKzB0_"
      }
    },
    {
      "cell_type": "code",
      "source": [
        "from sklearn.model_selection import train_test_split\n",
        "X_train, X_test, Y_train, Y_test = train_test_split(X,Y,test_size=0.2)"
      ],
      "metadata": {
        "execution": {
          "iopub.status.busy": "2023-09-05T17:49:05.607476Z",
          "iopub.execute_input": "2023-09-05T17:49:05.607927Z",
          "iopub.status.idle": "2023-09-05T17:49:05.645579Z",
          "shell.execute_reply.started": "2023-09-05T17:49:05.607889Z",
          "shell.execute_reply": "2023-09-05T17:49:05.644141Z"
        },
        "trusted": true,
        "id": "0DtPkHQGzB1A"
      },
      "execution_count": null,
      "outputs": []
    },
    {
      "cell_type": "code",
      "source": [
        "X_train.shape,Y_test.shape"
      ],
      "metadata": {
        "execution": {
          "iopub.status.busy": "2023-09-05T17:49:05.647156Z",
          "iopub.execute_input": "2023-09-05T17:49:05.64751Z",
          "iopub.status.idle": "2023-09-05T17:49:05.659426Z",
          "shell.execute_reply.started": "2023-09-05T17:49:05.64748Z",
          "shell.execute_reply": "2023-09-05T17:49:05.65795Z"
        },
        "trusted": true,
        "id": "22cvzs27zB1B"
      },
      "execution_count": null,
      "outputs": []
    },
    {
      "cell_type": "code",
      "source": [
        "# Logistic Regression model\n",
        "\n",
        "from sklearn.linear_model import LogisticRegression\n",
        "from sklearn.metrics import accuracy_score, precision_score, recall_score, f1_score, confusion_matrix\n",
        "\n",
        "# Create a logistic regression model\n",
        "model = LogisticRegression()\n",
        "\n",
        "# Train the model on the training data\n",
        "model.fit(X_train, Y_train)\n",
        "\n",
        "# Make predictions on the testing data\n",
        "y_pred = model.predict(X_test)\n",
        "\n",
        "# Calculate the accuracy of the model\n",
        "accuracy = accuracy_score(Y_test, y_pred)\n",
        "print(\"Accuracy:\", accuracy)\n",
        "\n",
        "\n"
      ],
      "metadata": {
        "execution": {
          "iopub.status.busy": "2023-09-05T17:49:05.661605Z",
          "iopub.execute_input": "2023-09-05T17:49:05.662011Z",
          "iopub.status.idle": "2023-09-05T17:49:05.734522Z",
          "shell.execute_reply.started": "2023-09-05T17:49:05.66198Z",
          "shell.execute_reply": "2023-09-05T17:49:05.73289Z"
        },
        "trusted": true,
        "id": "UbhEMuuezB1B"
      },
      "execution_count": null,
      "outputs": []
    },
    {
      "cell_type": "markdown",
      "source": [
        "##### High accuracy is not often a good thing in a machine learning model as it states the problem of imbalanced dataset"
      ],
      "metadata": {
        "id": "cs3WsrWYzB1B"
      }
    },
    {
      "cell_type": "code",
      "source": [
        "import seaborn as sns\n",
        "import matplotlib.pyplot as plt\n",
        "\n",
        "# Assuming you have a DataFrame 'df' with a 'FraudIndicator' column\n",
        "# Load your data into the DataFrame if not already done\n",
        "\n",
        "# Create a count plot for the 'FraudIndicator' column\n",
        "plt.figure(figsize=(8, 6))  # Optional: Adjust the figure size\n",
        "sns.countplot(data=data1, x='FraudIndicator', palette='viridis')\n",
        "plt.title('Count Plot of Fraud Indicator')\n",
        "plt.xlabel('Fraud Indicator')\n",
        "plt.ylabel('Count')\n",
        "plt.show()\n"
      ],
      "metadata": {
        "execution": {
          "iopub.status.busy": "2023-09-05T17:49:05.735998Z",
          "iopub.execute_input": "2023-09-05T17:49:05.736359Z",
          "iopub.status.idle": "2023-09-05T17:49:06.012087Z",
          "shell.execute_reply.started": "2023-09-05T17:49:05.73633Z",
          "shell.execute_reply": "2023-09-05T17:49:06.01059Z"
        },
        "trusted": true,
        "id": "_yt9Bl-IzB1C"
      },
      "execution_count": null,
      "outputs": []
    },
    {
      "cell_type": "code",
      "source": [
        "import pandas as pd\n",
        "import seaborn as sns\n",
        "import matplotlib.pyplot as plt\n",
        "from imblearn.over_sampling import SMOTE\n",
        "from collections import Counter\n",
        "\n",
        "\n",
        "# Initialize SMOTE for oversampling\n",
        "smote = SMOTE(random_state=42)\n",
        "\n",
        "# Apply SMOTE to the data\n",
        "X_resampled, y_resampled = smote.fit_resample(X, Y)\n",
        "\n",
        "# Check the class distribution after oversampling\n",
        "print(\"Class distribution after oversampling:\", Counter(y_resampled))\n",
        "\n",
        "# Create a count plot for the 'FraudIndicator' column after oversampling\n",
        "plt.figure(figsize=(8, 6))\n",
        "sns.countplot(data=pd.DataFrame({'FraudIndicator': y_resampled}), x='FraudIndicator', palette='viridis')\n",
        "plt.title('Count Plot of Fraud Indicator (After Oversampling)')\n",
        "plt.xlabel('Fraud Indicator')\n",
        "plt.ylabel('Count')\n",
        "plt.show()\n"
      ],
      "metadata": {
        "execution": {
          "iopub.status.busy": "2023-09-05T17:49:06.014137Z",
          "iopub.execute_input": "2023-09-05T17:49:06.015143Z",
          "iopub.status.idle": "2023-09-05T17:49:06.39358Z",
          "shell.execute_reply.started": "2023-09-05T17:49:06.015098Z",
          "shell.execute_reply": "2023-09-05T17:49:06.391907Z"
        },
        "trusted": true,
        "id": "RsVLG8bMzB1C"
      },
      "execution_count": null,
      "outputs": []
    },
    {
      "cell_type": "code",
      "source": [
        "# Retraining Logistic regression using SAMPLED Data\n",
        "\n",
        "model = LogisticRegression()\n",
        "\n",
        "# Train the model on the training data\n",
        "model.fit(X_resampled, y_resampled)\n",
        "\n",
        "# Make predictions on the testing data\n",
        "y_pred = model.predict(X_test)\n",
        "\n",
        "# Calculate and print various metrics to evaluate the model's performance\n",
        "accuracy = accuracy_score(Y_test, y_pred)\n",
        "precision = precision_score(Y_test, y_pred)\n",
        "recall = recall_score(Y_test, y_pred)\n",
        "f1 = f1_score(Y_test, y_pred)\n",
        "confusion = confusion_matrix(Y_test, y_pred)\n",
        "\n",
        "print(\"Model Evaluation Metrics:\")\n",
        "print(\"Accuracy:\", accuracy)\n",
        "print(\"Precision:\", precision)\n",
        "print(\"Recall:\", recall)\n",
        "print(\"F1 Score:\", f1)\n",
        "print(\"Confusion Matrix:\")\n",
        "print(confusion)"
      ],
      "metadata": {
        "execution": {
          "iopub.status.busy": "2023-09-05T17:49:06.395274Z",
          "iopub.execute_input": "2023-09-05T17:49:06.395978Z",
          "iopub.status.idle": "2023-09-05T17:49:06.503824Z",
          "shell.execute_reply.started": "2023-09-05T17:49:06.395938Z",
          "shell.execute_reply": "2023-09-05T17:49:06.502005Z"
        },
        "trusted": true,
        "id": "rOtGZLtVzB1C"
      },
      "execution_count": null,
      "outputs": []
    },
    {
      "cell_type": "markdown",
      "source": [
        "## HYPERPARAMETER TUNING"
      ],
      "metadata": {
        "id": "mOBQzrXCzB1D"
      }
    },
    {
      "cell_type": "code",
      "source": [
        "import numpy as np\n",
        "from sklearn.model_selection import GridSearchCV\n",
        "from sklearn.linear_model import LogisticRegression\n",
        "\n",
        "# Define the logistic regression model\n",
        "model = LogisticRegression()\n",
        "\n",
        "# Define a range of hyperparameters to search\n",
        "param_grid = {\n",
        "    'penalty': ['l1', 'l2'],  # Regularization type\n",
        "    'C': np.logspace(-3, 3, 7),  # Inverse of regularization strength (smaller values for stronger regularization)\n",
        "    'solver': ['liblinear'],  # Solver for l1 regularization\n",
        "}\n",
        "\n",
        "# Create a grid search with cross-validation\n",
        "grid_search = GridSearchCV(model, param_grid, cv=5, scoring='f1', n_jobs=-1)\n",
        "\n",
        "# Fit the grid search to the data\n",
        "grid_search.fit(X_resampled, y_resampled)\n",
        "\n",
        "# Get the best hyperparameters and corresponding model\n",
        "best_params = grid_search.best_params_\n",
        "best_model = grid_search.best_estimator_\n",
        "\n",
        "# Print the best hyperparameters\n",
        "print(\"Best Hyperparameters:\", best_params)\n",
        "\n",
        "# Evaluate the best model on the resampled data\n",
        "y_pred = best_model.predict(X_resampled)\n",
        "\n",
        "# Calculate and print various metrics to evaluate the model's performance on the resampled data\n",
        "accuracy = accuracy_score(y_resampled, y_pred)\n",
        "precision = precision_score(y_resampled, y_pred)\n",
        "recall = recall_score(y_resampled, y_pred)\n",
        "f1 = f1_score(y_resampled, y_pred)\n",
        "confusion = confusion_matrix(y_resampled, y_pred)\n",
        "\n",
        "print(\"Model Evaluation Metrics on Resampled Data:\")\n",
        "print(\"Accuracy:\", accuracy)\n",
        "print(\"Precision:\", precision)\n",
        "print(\"Recall:\", recall)\n",
        "print(\"F1 Score:\", f1)\n",
        "print(\"Confusion Matrix:\")\n",
        "print(confusion)\n"
      ],
      "metadata": {
        "execution": {
          "iopub.status.busy": "2023-09-05T17:49:06.506727Z",
          "iopub.execute_input": "2023-09-05T17:49:06.508125Z",
          "iopub.status.idle": "2023-09-05T17:49:09.332905Z",
          "shell.execute_reply.started": "2023-09-05T17:49:06.508049Z",
          "shell.execute_reply": "2023-09-05T17:49:09.331081Z"
        },
        "trusted": true,
        "id": "C8bAt1YNzB1D"
      },
      "execution_count": null,
      "outputs": []
    },
    {
      "cell_type": "code",
      "source": [
        "from sklearn.metrics import accuracy_score, precision_score, recall_score, f1_score, confusion_matrix\n",
        "from sklearn.model_selection import train_test_split\n",
        "from sklearn.tree import DecisionTreeClassifier\n",
        "from sklearn.ensemble import RandomForestClassifier, GradientBoostingClassifier\n",
        "from sklearn.svm import SVC\n",
        "from sklearn.neighbors import KNeighborsClassifier\n",
        "\n",
        "def evaluate_classification_models(X_resampled, y_resampled):\n",
        "    # Split the resampled data into training and testing sets\n",
        "    X_train, X_test, y_train, y_test = train_test_split(X_resampled, y_resampled, test_size=0.2, random_state=42)\n",
        "\n",
        "    # Define a dictionary of classification models\n",
        "    models = {\n",
        "        \"Decision Tree Classifier\": DecisionTreeClassifier(),\n",
        "        \"Random Forest Classifier\": RandomForestClassifier(),\n",
        "        \"Support Vector Machine (SVM)\": SVC(),\n",
        "        \"K-Nearest Neighbors (KNN)\": KNeighborsClassifier(),\n",
        "        \"Gradient Boosting Classifier\": GradientBoostingClassifier()\n",
        "    }\n",
        "\n",
        "    results = {}\n",
        "\n",
        "    for model_name, model in models.items():\n",
        "        # Train the model\n",
        "        model.fit(X_train, y_train)\n",
        "\n",
        "        # Make predictions\n",
        "        y_pred = model.predict(X_test)\n",
        "\n",
        "        # Calculate and store various metrics\n",
        "        accuracy = accuracy_score(y_test, y_pred)\n",
        "        precision = precision_score(y_test, y_pred)\n",
        "        recall = recall_score(y_test, y_pred)\n",
        "        f1 = f1_score(y_test, y_pred)\n",
        "        confusion = confusion_matrix(y_test, y_pred)\n",
        "\n",
        "        results[model_name] = {\n",
        "            \"Accuracy\": accuracy,\n",
        "            \"Precision\": precision,\n",
        "            \"Recall\": recall,\n",
        "            \"F1 Score\": f1,\n",
        "            \"Confusion Matrix\": confusion\n",
        "        }\n",
        "\n",
        "    return results\n",
        "\n",
        "results = evaluate_classification_models(X_resampled, y_resampled)\n",
        "for model_name, model_result in results.items():\n",
        "     print(f\"Results for {model_name}:\")\n",
        "     for metric, value in model_result.items():\n",
        "         print(f\"{metric}: {value}\")\n",
        "     print()\n"
      ],
      "metadata": {
        "execution": {
          "iopub.status.busy": "2023-09-05T17:49:09.336515Z",
          "iopub.execute_input": "2023-09-05T17:49:09.337748Z",
          "iopub.status.idle": "2023-09-05T17:49:10.578006Z",
          "shell.execute_reply.started": "2023-09-05T17:49:09.337685Z",
          "shell.execute_reply": "2023-09-05T17:49:10.576834Z"
        },
        "trusted": true,
        "id": "gIl17r_WzB1E"
      },
      "execution_count": null,
      "outputs": []
    },
    {
      "cell_type": "markdown",
      "source": [
        "# Ranking Models perfromance\n",
        "1. Random Forest Classifier\n",
        "2. Gradient Boosting Algorithm\n",
        "3. Decision Tree Classifier\n",
        "4. K-Nearest Neighbours\n",
        "5. Support Vector Machine (SVC)\n",
        "6. Logistic Regression"
      ],
      "metadata": {
        "id": "XpOZh27uzB1F"
      }
    },
    {
      "cell_type": "markdown",
      "source": [
        "### Now we can HyperParameterTune the <h1><b>RandomForest CLassifier</b></h1>"
      ],
      "metadata": {
        "id": "m7E-sdz8zB1F"
      }
    },
    {
      "cell_type": "code",
      "source": [
        "from sklearn.model_selection import train_test_split, GridSearchCV\n",
        "from sklearn.ensemble import RandomForestClassifier\n",
        "from sklearn.metrics import accuracy_score, precision_score, recall_score, f1_score, confusion_matrix\n",
        "\n",
        "# Split the data into training and testing sets\n",
        "X_train, X_test, y_train, y_test = train_test_split(X_resampled, y_resampled, test_size=0.2, random_state=42)\n",
        "\n",
        "# Define the Random Forest Classifier model\n",
        "rf_model = RandomForestClassifier(random_state=42)\n",
        "\n",
        "# Define a range of hyperparameters to search\n",
        "param_grid = {\n",
        "    'n_estimators': [50, 100, 150],  # Number of trees in the forest\n",
        "    'max_depth': [None, 10, 20, 30],  # Maximum depth of the trees\n",
        "    'min_samples_split': [2, 5, 10],  # Minimum number of samples required to split an internal node\n",
        "    'min_samples_leaf': [1, 2, 4],  # Minimum number of samples required to be at a leaf node\n",
        "}\n",
        "\n",
        "# Create a grid search with cross-validation\n",
        "grid_search = GridSearchCV(rf_model, param_grid, cv=5, scoring='f1', n_jobs=-1)\n",
        "\n",
        "# Fit the grid search to the resampled data\n",
        "grid_search.fit(X_train, y_train)\n",
        "\n",
        "# Get the best hyperparameters and corresponding model\n",
        "best_params = grid_search.best_params_\n",
        "best_rf_model = grid_search.best_estimator_\n",
        "\n",
        "# Print the best hyperparameters\n",
        "print(\"Best Hyperparameters:\", best_params)\n",
        "\n",
        "# Train the best model on the training data\n",
        "best_rf_model.fit(X_train, y_train)\n",
        "\n",
        "# Make predictions on the testing data\n",
        "y_pred = best_rf_model.predict(X_test)\n",
        "\n",
        "# Calculate and print various metrics to evaluate the best model's performance\n",
        "accuracy = accuracy_score(y_test, y_pred)\n",
        "precision = precision_score(y_test, y_pred)\n",
        "recall = recall_score(y_test, y_pred)\n",
        "f1 = f1_score(y_test, y_pred)\n",
        "confusion = confusion_matrix(y_test, y_pred)\n",
        "\n",
        "print(\"Best Model Evaluation Metrics:\")\n",
        "print(\"Accuracy:\", accuracy)\n",
        "print(\"Precision:\", precision)\n",
        "print(\"Recall:\", recall)\n",
        "print(\"F1 Score:\", f1)\n",
        "print(\"Confusion Matrix:\")\n",
        "print(confusion)\n"
      ],
      "metadata": {
        "execution": {
          "iopub.status.busy": "2023-09-05T17:49:10.579814Z",
          "iopub.execute_input": "2023-09-05T17:49:10.580165Z",
          "iopub.status.idle": "2023-09-05T17:50:34.414384Z",
          "shell.execute_reply.started": "2023-09-05T17:49:10.580135Z",
          "shell.execute_reply": "2023-09-05T17:50:34.412168Z"
        },
        "trusted": true,
        "id": "Vhk2rr6hzB1F"
      },
      "execution_count": null,
      "outputs": []
    },
    {
      "cell_type": "markdown",
      "source": [],
      "metadata": {
        "id": "xZhw6pkszB1G"
      }
    },
    {
      "cell_type": "code",
      "source": [],
      "metadata": {
        "id": "AX8DvTq0zB1H"
      },
      "execution_count": null,
      "outputs": []
    }
  ]
}